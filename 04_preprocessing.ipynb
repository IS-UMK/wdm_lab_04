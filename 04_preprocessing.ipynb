{
 "cells": [
  {
   "cell_type": "markdown",
   "metadata": {
    "toc": true
   },
   "source": [
    "<h1>Table of Contents<span class=\"tocSkip\"></span></h1>\n",
    "<div class=\"toc\"><ul class=\"toc-item\"><li><span><a href=\"#4.-Wstępne-przetwarzanie-danych\" data-toc-modified-id=\"4.-Wstępne-przetwarzanie-danych-1\"><span class=\"toc-item-num\">1&nbsp;&nbsp;</span>4. Wstępne przetwarzanie danych</a></span><ul class=\"toc-item\"><li><span><a href=\"#Dane-Iris\" data-toc-modified-id=\"Dane-Iris-1.1\"><span class=\"toc-item-num\">1.1&nbsp;&nbsp;</span>Dane Iris</a></span></li><li><span><a href=\"#Brakujące-wartości\" data-toc-modified-id=\"Brakujące-wartości-1.2\"><span class=\"toc-item-num\">1.2&nbsp;&nbsp;</span>Brakujące wartości</a></span></li><li><span><a href=\"#Transformacja-do-zmiennej-numerycznej\" data-toc-modified-id=\"Transformacja-do-zmiennej-numerycznej-1.3\"><span class=\"toc-item-num\">1.3&nbsp;&nbsp;</span>Transformacja do zmiennej numerycznej</a></span><ul class=\"toc-item\"><li><span><a href=\"#Ćwiczenie\" data-toc-modified-id=\"Ćwiczenie-1.3.1\"><span class=\"toc-item-num\">1.3.1&nbsp;&nbsp;</span>Ćwiczenie</a></span></li></ul></li><li><span><a href=\"#Uzupełnianie-wartości-brakujących\" data-toc-modified-id=\"Uzupełnianie-wartości-brakujących-1.4\"><span class=\"toc-item-num\">1.4&nbsp;&nbsp;</span>Uzupełnianie wartości brakujących</a></span></li><li><span><a href=\"#Usuwanie-wartości-brakujących\" data-toc-modified-id=\"Usuwanie-wartości-brakujących-1.5\"><span class=\"toc-item-num\">1.5&nbsp;&nbsp;</span>Usuwanie wartości brakujących</a></span></li><li><span><a href=\"#Wartości-odstające-i-inne-anomalie\" data-toc-modified-id=\"Wartości-odstające-i-inne-anomalie-1.6\"><span class=\"toc-item-num\">1.6&nbsp;&nbsp;</span>Wartości odstające i inne anomalie</a></span><ul class=\"toc-item\"><li><span><a href=\"#Ćwiczenie\" data-toc-modified-id=\"Ćwiczenie-1.6.1\"><span class=\"toc-item-num\">1.6.1&nbsp;&nbsp;</span>Ćwiczenie</a></span></li></ul></li><li><span><a href=\"#Błędy-w-danych\" data-toc-modified-id=\"Błędy-w-danych-1.7\"><span class=\"toc-item-num\">1.7&nbsp;&nbsp;</span>Błędy w danych</a></span></li><li><span><a href=\"#Duplikaty\" data-toc-modified-id=\"Duplikaty-1.8\"><span class=\"toc-item-num\">1.8&nbsp;&nbsp;</span>Duplikaty</a></span></li><li><span><a href=\"#Standaryzacja-danych\" data-toc-modified-id=\"Standaryzacja-danych-1.9\"><span class=\"toc-item-num\">1.9&nbsp;&nbsp;</span>Standaryzacja danych</a></span></li><li><span><a href=\"#Normalizacja\" data-toc-modified-id=\"Normalizacja-1.10\"><span class=\"toc-item-num\">1.10&nbsp;&nbsp;</span>Normalizacja</a></span></li><li><span><a href=\"#Próbkowanie-(sampling)\" data-toc-modified-id=\"Próbkowanie-(sampling)-1.11\"><span class=\"toc-item-num\">1.11&nbsp;&nbsp;</span>Próbkowanie (sampling)</a></span></li><li><span><a href=\"#Dyskretyzacja-danych\" data-toc-modified-id=\"Dyskretyzacja-danych-1.12\"><span class=\"toc-item-num\">1.12&nbsp;&nbsp;</span>Dyskretyzacja danych</a></span><ul class=\"toc-item\"><li><span><a href=\"#Ćwiczenie\" data-toc-modified-id=\"Ćwiczenie-1.12.1\"><span class=\"toc-item-num\">1.12.1&nbsp;&nbsp;</span>Ćwiczenie</a></span></li></ul></li><li><span><a href=\"#Zamiana-kategorycznych-danych-na-zmienne-numeryczne\" data-toc-modified-id=\"Zamiana-kategorycznych-danych-na-zmienne-numeryczne-1.13\"><span class=\"toc-item-num\">1.13&nbsp;&nbsp;</span>Zamiana kategorycznych danych na zmienne numeryczne</a></span><ul class=\"toc-item\"><li><span><a href=\"#Kodowanie-one-hot\" data-toc-modified-id=\"Kodowanie-one-hot-1.13.1\"><span class=\"toc-item-num\">1.13.1&nbsp;&nbsp;</span>Kodowanie one-hot</a></span></li><li><span><a href=\"#Mapowanie-wartości-kategorycznych-na-liczby\" data-toc-modified-id=\"Mapowanie-wartości-kategorycznych-na-liczby-1.13.2\"><span class=\"toc-item-num\">1.13.2&nbsp;&nbsp;</span>Mapowanie wartości kategorycznych na liczby</a></span></li></ul></li><li><span><a href=\"#Zadanie\" data-toc-modified-id=\"Zadanie-1.14\"><span class=\"toc-item-num\">1.14&nbsp;&nbsp;</span>Zadanie</a></span></li></ul></li></ul></div>"
   ]
  },
  {
   "cell_type": "markdown",
   "metadata": {
    "slideshow": {
     "slide_type": "slide"
    }
   },
   "source": [
    "# 4. Wstępne przetwarzanie danych\n",
    "\n",
    "\n",
    "Przed przystąpieniem do analizy dane należy odpowiednio przygotować\n",
    "* usunięcie błędów wynikające z metody pomiaru lub niepoprawnej akwizycji\n",
    "* usunięcie wartości niezgodnych ze zbiorem danych i naszą wiedzą o domenie problemu\n",
    "* wartości odstające (_outlayers_)\n",
    "* wartości brakujące\n",
    "* powtórzenia pomiarów (duplikaty)\n",
    "* przygotowanie zmiennych: standaryzacja, normalizacja, uciąglanie, dyskretyzacja, ..."
   ]
  },
  {
   "cell_type": "markdown",
   "metadata": {
    "slideshow": {
     "slide_type": "slide"
    }
   },
   "source": [
    "## Dane Iris\n",
    "\n",
    "Dane Iris zawierają pomiary rozmiarów płatków (petal) oraz rozmiarów liści kielicha (sepal) dokonanych dla 3 odmian Irysów: Setosa, Virginica i Versicolor\n",
    "\n",
    "<img src=\"https://s3.amazonaws.com/assets.datacamp.com/blog_assets/Machine+Learning+R/iris-machinelearning.png\" alt=\"drawing\" width=\"400\"/>\n",
    "\n",
    "Dane znajdują się w repozytoiurm w katalogu [dane/iris-data.csv](dane/iris-data.csv) lub można le pobrać [tutaj](https://github.com/IS-UMK/wdm_lab_04/blob/master/dane/iris-data.csv)\n"
   ]
  },
  {
   "cell_type": "code",
   "execution_count": null,
   "metadata": {
    "slideshow": {
     "slide_type": "slide"
    }
   },
   "outputs": [],
   "source": [
    "import pandas as pd\n",
    "\n",
    "iris = pd.read_csv('dane/iris-data.csv')\n",
    "\n",
    "print('Ilość przypadków = %d' % (iris.shape[0]))\n",
    "print('Ilość zmiennych = %d' % (iris.shape[1]))\n",
    "iris.head()"
   ]
  },
  {
   "cell_type": "markdown",
   "metadata": {
    "slideshow": {
     "slide_type": "slide"
    }
   },
   "source": [
    "## Brakujące wartości\n",
    "\n",
    "Na pierwszy rzut oka wszystko wydaje się być w porządku. Niemniej jednak pierwsze co  powinniśmy sprawdzić to to czy w pliku nie ma braków danych. W tabeli Pandas takie wartości są reprezentowane za pomocą wartości `null`. Sprawdźmy, czy mamy takie dane w pliku za pomocą metody `isnull()` lub ``isna()``"
   ]
  },
  {
   "cell_type": "code",
   "execution_count": null,
   "metadata": {},
   "outputs": [],
   "source": [
    "iris.isnull()"
   ]
  },
  {
   "cell_type": "code",
   "execution_count": null,
   "metadata": {},
   "outputs": [],
   "source": [
    "iris.isnull().values.any()"
   ]
  },
  {
   "cell_type": "markdown",
   "metadata": {
    "slideshow": {
     "slide_type": "slide"
    }
   },
   "source": [
    "Wygląda na to, że w danych są brakujące wartości. Sprawdźmy ile ich jest w każdej ze zmiennych."
   ]
  },
  {
   "cell_type": "code",
   "execution_count": null,
   "metadata": {},
   "outputs": [],
   "source": [
    "iris.isnull().sum()"
   ]
  },
  {
   "cell_type": "markdown",
   "metadata": {},
   "source": [
    "Zobaczmy także jakiego typu są zmienne."
   ]
  },
  {
   "cell_type": "code",
   "execution_count": null,
   "metadata": {},
   "outputs": [],
   "source": [
    "iris.info()"
   ]
  },
  {
   "cell_type": "markdown",
   "metadata": {
    "slideshow": {
     "slide_type": "slide"
    }
   },
   "source": [
    "## Transformacja do zmiennej numerycznej\n",
    "\n",
    "Pierwsza zmienna powinna zawierać wartości numeryczne a jest reprezentowana jako `object`. Najprawdopodobniej w pliku występuje pewna wartość, która nie jest liczbą, dlatego Pandas zaimportował te wartości do typu `object` (w postaci napisów). Spróbujmy zamienić tą zmienną na zmienną numeryczną za pomocą metody [pandas.to_numeric](https://pandas.pydata.org/pandas-docs/stable/reference/api/pandas.to_numeric.html). \n",
    "\n",
    "```python\n",
    "pandas.to_numeric(arg, errors='raise')\n",
    "```\n",
    "\n",
    "Argument  `errors='coerce'` sprawia, że  wszystkie problematyczne wartości zostaną zamienione na wartość `NaN`.\n",
    "\n"
   ]
  },
  {
   "cell_type": "code",
   "execution_count": null,
   "metadata": {},
   "outputs": [],
   "source": [
    "x = [ 42, 2.0, '1.0', \"-5\"]\n",
    "pd.to_numeric(x)"
   ]
  },
  {
   "cell_type": "code",
   "execution_count": null,
   "metadata": {},
   "outputs": [],
   "source": [
    "x = [ 42, 2.0, '1.0', \"-5\", '?', 'Siała baba mak']\n",
    "pd.to_numeric(x, errors='coerce')"
   ]
  },
  {
   "cell_type": "markdown",
   "metadata": {
    "slideshow": {
     "slide_type": "slide"
    }
   },
   "source": [
    "### Ćwiczenie\n",
    "\n",
    "Przekształć zmienną ``sepal_length_cm`` do postaci numerycznej.  \n",
    "Sprawdź, które obserwacje zawierają brakujące dane i jakie symbole powodowały problem przy zamianie do wartości numerycznych? "
   ]
  },
  {
   "cell_type": "code",
   "execution_count": null,
   "metadata": {},
   "outputs": [],
   "source": [
    "\n",
    "\n"
   ]
  },
  {
   "cell_type": "markdown",
   "metadata": {},
   "source": [
    "<details>\n",
    "<summary> > Odpowiedź ... </summary>    \n",
    "Okazuje się, że dwie wartości w pliku zamiast liczby zawierały znak zapytania (`?`).\n",
    "</details>\n"
   ]
  },
  {
   "cell_type": "markdown",
   "metadata": {
    "slideshow": {
     "slide_type": "slide"
    }
   },
   "source": [
    "## Uzupełnianie wartości brakujących\n",
    "\n",
    "Jeżeli zależy nam na zachowaniu pomiarów zawierających braki to możemy spróbować wypełnić je odpowiednimi wartościami, np. takimi, które wydają się najbardziej prawdopodobne, tj. wartością średnią zmiennej lub wartością modalną. Wypełnianie braków zrealizowane może być funkcją [DataFrame.fillna()](https://pandas.pydata.org/pandas-docs/stable/reference/api/pandas.DataFrame.fillna.html)\n",
    "\n",
    "```python\n",
    "DataFrame.fillna(value=None, inplace=False, ...)\n",
    "```"
   ]
  },
  {
   "cell_type": "code",
   "execution_count": null,
   "metadata": {},
   "outputs": [],
   "source": [
    "sepal_numeric = pd.to_numeric(iris['sepal_length_cm'], errors='coerce')\n",
    "sepal_lenght_mean = sepal_numeric.mean()\n",
    "\n",
    "print(f'Wartość średnia zmiennej {sepal_lenght_mean}\\n')\n",
    "\n",
    "iris['sepal_length_cm'] = sepal_numeric.fillna(sepal_lenght_mean)\n",
    "\n",
    "print('Czy zminna posiada wartości NaN? ',  iris['sepal_length_cm'].isna().values.any())\n",
    "# iris.info()"
   ]
  },
  {
   "cell_type": "markdown",
   "metadata": {
    "slideshow": {
     "slide_type": "slide"
    }
   },
   "source": [
    "## Usuwanie wartości brakujących \n",
    "\n",
    "Jednak najczęściej będziemy chcieli się pozbyć pomiarów posiadających brakujące dane. W przypadku, gdy danych jest dostatecznie dużo nie będzie to miało istotnego wpływu na wynik analizy. \n",
    "\n",
    "Usuńmy przypadki, które posiadają braki za pomocą metody [DataFrame.dropna()](https://pandas.pydata.org/pandas-docs/stable/reference/api/pandas.DataFrame.dropna.html)."
   ]
  },
  {
   "cell_type": "code",
   "execution_count": null,
   "metadata": {},
   "outputs": [],
   "source": [
    "print(f\"Obecnie w danych jest {iris.shape[0]} przypadków\\n\")\n",
    "\n",
    "iris = iris.dropna()     # usuwanie wierszy zawierających wartości NaN\n",
    "\n",
    "print(f\"Po usunięciu braków pozostało {iris.shape[0]} przypadków\\n\")\n",
    "\n",
    "print(\"Czy w danych są jeszcze brakujące wartości?\")\n",
    "iris.isna().any()"
   ]
  },
  {
   "cell_type": "markdown",
   "metadata": {
    "slideshow": {
     "slide_type": "slide"
    }
   },
   "source": [
    "## Wartości odstające i inne anomalie\n",
    "\n",
    "\n",
    "Wypiszmy podstawowe statystyki o danych i sprawdźmy czy występują tam inne anomalie."
   ]
  },
  {
   "cell_type": "code",
   "execution_count": null,
   "metadata": {},
   "outputs": [],
   "source": [
    "iris.describe()"
   ]
  },
  {
   "cell_type": "markdown",
   "metadata": {},
   "source": [
    "Dzięki tego typu tabelkom możemy sprawdzić podstawowe informacje o danych oraz sprawdzić czy pomiary  nie przekraczają rozsądnych przedziałów dla poszczególnych cech.\n",
    "\n",
    "Cecha `sepal_length_cm` posiada podejrzanie małą wartość minimalną (0.055 cm), zaś wartość minimalna zmiennej `sepal_width_cm` jest ujemna (-1.0). Szerokość i wysokość powinny być wartościami większymi od 0. Najprawdopodobniej jest to wartość błędna i ten pomiar należy usunąć.\n"
   ]
  },
  {
   "cell_type": "markdown",
   "metadata": {
    "slideshow": {
     "slide_type": "slide"
    }
   },
   "source": [
    "Wartości odstające najwygodniej wykryć za pomocą wykresu skrzynkowego. "
   ]
  },
  {
   "cell_type": "code",
   "execution_count": null,
   "metadata": {},
   "outputs": [],
   "source": [
    "import matplotlib.pyplot as plt \n",
    "import seaborn as sb\n",
    "\n",
    "sb.boxplot(data=iris);"
   ]
  },
  {
   "cell_type": "markdown",
   "metadata": {},
   "source": [
    "Skrzynia określa zakres od 1 do 3 kwartyla z kreską środkową oznaczająca medianę (wartość środkowa). Punkty leżące za \"wąsami\" są podejrzane, są to wartości odstające, nietypowe dla rozkładu. \n",
    "\n",
    "Potwierdza się, że dwie pierwsze zmienne posiadają odstające wartości. \n",
    "\n",
    "Przypadki odstające tj. takie które znajdują się poza zakresem w które wpada większość danych, nie muszą jednoznacznie być błędne. Niemniej jednak należy im się dobrze przyjrzeć. I bardzo rzadko możemy jednoznacznie stwierdzić, czy taka wartość odstająca była błędem pomiaru, błędem na poziomie akwizycji lub wprowadzania danych, czy może faktycznie jest odstępstwem od normy w samym fenomenie, który obserwujemy. "
   ]
  },
  {
   "cell_type": "markdown",
   "metadata": {
    "slideshow": {
     "slide_type": "slide"
    }
   },
   "source": [
    "Zobaczmy najpierw, które przypadki posiadają wartość ujemną, gdyż one z pewnością są błędne."
   ]
  },
  {
   "cell_type": "code",
   "execution_count": null,
   "metadata": {},
   "outputs": [],
   "source": [
    "iris[iris['sepal_width_cm'] < 0.0]"
   ]
  },
  {
   "cell_type": "markdown",
   "metadata": {},
   "source": [
    "Jest jeden taki przypadek - usuńmy go."
   ]
  },
  {
   "cell_type": "code",
   "execution_count": null,
   "metadata": {},
   "outputs": [],
   "source": [
    "iris = iris[iris['sepal_width_cm'] > 0.0]\n",
    "\n",
    "sb.boxplot(data=iris);"
   ]
  },
  {
   "cell_type": "markdown",
   "metadata": {
    "slideshow": {
     "slide_type": "slide"
    }
   },
   "source": [
    "Badając rozkład danych przyjrzyjmy się również rozkładowi danych dla każdej pary zmiennych.   \n",
    "Grupy przypadków zaznaczmy różnymi kolorami."
   ]
  },
  {
   "cell_type": "code",
   "execution_count": null,
   "metadata": {
    "scrolled": true
   },
   "outputs": [],
   "source": [
    "import seaborn as sb\n",
    "import matplotlib.pyplot as plt\n",
    "\n",
    "sb.pairplot(iris, hue='class')\n",
    "plt.show()"
   ]
  },
  {
   "cell_type": "markdown",
   "metadata": {
    "slideshow": {
     "slide_type": "-"
    }
   },
   "source": [
    "Z tego wykresu możemy wysnuć od razu następujące wnioski:\n",
    "- wartości odstające w zmiennej `sepal_length_cm` są bardzo wyraźnie widoczne i dotyczą odmiany Iris-Versicolor,\n",
    "- domena klasy (`class`) ma 5 unikalnych wartości, podczas gdy powinna mieć ich 3."
   ]
  },
  {
   "cell_type": "markdown",
   "metadata": {
    "slideshow": {
     "slide_type": "slide"
    }
   },
   "source": [
    "Zbadajmy najpierw zmienną `class`. Jest to zmienna kategoryczna."
   ]
  },
  {
   "cell_type": "code",
   "execution_count": null,
   "metadata": {},
   "outputs": [],
   "source": [
    "# wypiszmy jakie posiaday unikalne wartośći w kolumnie class\n",
    "print(iris['class'].unique())\n",
    "\n",
    "iris['class'].value_counts()"
   ]
  },
  {
   "cell_type": "markdown",
   "metadata": {},
   "source": [
    "Możemy zauważyć, że dwie etykiety `versicolor` i `Iris-setossa` są wynikiem błedu w zapisie, do którego mogło dojść podczas wprowadzania danych. Poprawmy to. Funkcja [DataFrame.replace()](https://pandas.pydata.org/pandas-docs/stable/reference/api/pandas.DataFrame.replace.html) pozwala zmienić wartości zmiennych."
   ]
  },
  {
   "cell_type": "markdown",
   "metadata": {
    "slideshow": {
     "slide_type": "slide"
    }
   },
   "source": [
    "### Ćwiczenie\n",
    "\n",
    "Popraw błedy w nazwach klas. Prawidłowe nawy klas to: ``Iris-setosa``, ``Iris-virginica``, ``Iris-versicolor``"
   ]
  },
  {
   "cell_type": "code",
   "execution_count": null,
   "metadata": {},
   "outputs": [],
   "source": [
    "\n",
    "\n"
   ]
  },
  {
   "cell_type": "markdown",
   "metadata": {
    "slideshow": {
     "slide_type": "slide"
    }
   },
   "source": [
    "## Błędy w danych\n",
    "\n",
    "Przyjrzyjmy się też danym w zmiennej  `sepal_length_cm` odmiany `Iris-versicolor`, które posiadają podejrzanie małe wartości, mniejsze od 2.5cm "
   ]
  },
  {
   "cell_type": "code",
   "execution_count": null,
   "metadata": {},
   "outputs": [],
   "source": [
    "#dla ułatwienia najpierw zapiszmy indeks do wykrajania dla tych danych\n",
    "broken_slice_idx = (iris['class'] == 'Iris-versicolor') & (iris['sepal_length_cm'] < 2.5)\n",
    "\n",
    "iris.loc[broken_slice_idx]"
   ]
  },
  {
   "cell_type": "markdown",
   "metadata": {
    "slideshow": {
     "slide_type": "-"
    }
   },
   "source": [
    "Możemy wrócić, do tabeli ze statystkami i zauważyć, że wartość `sepal_length_cm` wynosiła średnio 5.6 $\\pm$ 1.3. "
   ]
  },
  {
   "cell_type": "code",
   "execution_count": null,
   "metadata": {},
   "outputs": [],
   "source": [
    "print(\"%.1f +- %.1f\" % (iris.sepal_length_cm.mean() , iris.sepal_length_cm.std()))"
   ]
  },
  {
   "cell_type": "markdown",
   "metadata": {
    "slideshow": {
     "slide_type": "-"
    }
   },
   "source": [
    "Wygląda na to że podczas wprowadzania danych zostały pomylone jednostki miary, dane zostały wprowadzone w milimetrach zamiast w cm. Oczywiście to należałoby w jakiś sposób potwierdzić, ale na ten moment zmieńmy jednostki dla tych danych."
   ]
  },
  {
   "cell_type": "code",
   "execution_count": null,
   "metadata": {
    "slideshow": {
     "slide_type": "slide"
    }
   },
   "outputs": [],
   "source": [
    "iris.loc[broken_slice_idx, 'sepal_length_cm'] *= 100.0"
   ]
  },
  {
   "cell_type": "code",
   "execution_count": null,
   "metadata": {},
   "outputs": [],
   "source": [
    "sb.boxplot(data=iris);"
   ]
  },
  {
   "cell_type": "code",
   "execution_count": null,
   "metadata": {},
   "outputs": [],
   "source": [
    "sb.pairplot(iris, hue='class')\n",
    "plt.show()"
   ]
  },
  {
   "cell_type": "markdown",
   "metadata": {
    "slideshow": {
     "slide_type": "slide"
    }
   },
   "source": [
    "## Duplikaty\n",
    "\n"
   ]
  },
  {
   "cell_type": "markdown",
   "metadata": {},
   "source": [
    "Dane mogą zawierać powtarzające się pomiary, np. w wyniku nieuwagi pomiary jednego obiektu mogły zostać kilkukrotnie wpisane do bazy danych. W przypadku danych Irys nie mamy pewności, czy powtarzające się dane są wynikami uzyskanymi dla  różnych kwiatów. Spróbujmy jednak poszukać powtarzających się wierszy i je usunąć.\n",
    "\n",
    "Wypiszmy najpierw wszystkie wiersze, które się duplikują. Funkcja [DataFrame.duplicated()](https://pandas.pydata.org/pandas-docs/stable/reference/api/pandas.DataFrame.duplicated.html) zwraca serię binarną określającą powtarzające sie przypadki. "
   ]
  },
  {
   "cell_type": "code",
   "execution_count": null,
   "metadata": {},
   "outputs": [],
   "source": [
    "iris_d = iris.duplicated(keep=False)\n",
    "iris_d"
   ]
  },
  {
   "cell_type": "code",
   "execution_count": null,
   "metadata": {},
   "outputs": [],
   "source": [
    "iris[iris_d]"
   ]
  },
  {
   "cell_type": "markdown",
   "metadata": {
    "slideshow": {
     "slide_type": "slide"
    }
   },
   "source": [
    "Argument `keep='first'` metody `duplicated()` pozostawia pierwsze wystąpienie powtarzającego się wiersza i pozwala zindeksować pozostałe duplikaty. Usuńmy wszystkie (oprócz pierwszego) powtarzające się pomiary."
   ]
  },
  {
   "cell_type": "code",
   "execution_count": null,
   "metadata": {},
   "outputs": [],
   "source": [
    "iris_d = iris.duplicated(keep='first')\n",
    "print('Ilość powtarzających się przypadków = %d' % (iris_d.sum()))"
   ]
  },
  {
   "cell_type": "markdown",
   "metadata": {},
   "source": [
    "Pozostaje tylko usunąc oznaczone duplikaty. Można to też wykonać automatycznie fukcją  [DataFrame.drop_duplicates()](https://pandas.pydata.org/pandas-docs/stable/reference/api/pandas.DataFrame.drop_duplicates.html) "
   ]
  },
  {
   "cell_type": "code",
   "execution_count": null,
   "metadata": {},
   "outputs": [],
   "source": [
    "print('Liczba przypadków przed selekcją = %d' % (iris.shape[0]))\n",
    "iris = iris.drop_duplicates(keep='first')\n",
    "print('Liczba przypadków po odrzuceniu powtarzających się przypadków  = %d' % (iris.shape[0]))"
   ]
  },
  {
   "cell_type": "markdown",
   "metadata": {
    "slideshow": {
     "slide_type": "slide"
    }
   },
   "source": [
    "## Standaryzacja danych\n",
    "\n",
    "Standaryzacja  - normalizacja zmiennych zamieniająca średnią $\\mu$ na 0 (centrowanie) a odchylenie standardowe $\\sigma$ na 1\n",
    "\n",
    "$$\n",
    "z=\\frac{x-\\mu}{\\sigma}\n",
    "$$"
   ]
  },
  {
   "cell_type": "code",
   "execution_count": null,
   "metadata": {},
   "outputs": [],
   "source": [
    "iris_num = iris.select_dtypes(include=np.number)\n",
    "\n",
    "iris_std = (iris_num - iris_num.mean()) / iris_num.std()\n",
    "\n",
    "iris_std.plot(kind='box')\n",
    "# pd.options.display.float_format = '{:,.2f}'.format\n",
    "iris_std.describe()"
   ]
  },
  {
   "cell_type": "markdown",
   "metadata": {
    "slideshow": {
     "slide_type": "slide"
    }
   },
   "source": [
    "Zwykle przyjmuje się, że wartości odstające leżą dalej niż 3 odchylenia standardowe"
   ]
  },
  {
   "cell_type": "code",
   "execution_count": null,
   "metadata": {
    "slideshow": {
     "slide_type": "-"
    }
   },
   "outputs": [],
   "source": [
    "outliers = ((iris_std > 3) | (iris_std < -3)).any(axis=1)\n",
    "\n",
    "iris[outliers]"
   ]
  },
  {
   "cell_type": "markdown",
   "metadata": {
    "slideshow": {
     "slide_type": "slide"
    }
   },
   "source": [
    "## Normalizacja\n",
    "\n",
    "Normalizacja wartości zmiennych w ustalonym zakresie, zazwyczaj $[-1, 1]$\n",
    "\n",
    "$$\n",
    "z= 2 \\frac{x - x_{min}}{x_{max}-x_{min}} - 1\n",
    "$$\n",
    "\n"
   ]
  },
  {
   "cell_type": "code",
   "execution_count": null,
   "metadata": {},
   "outputs": [],
   "source": [
    "iris_norm = 2 * (iris_num - iris_num.min()) / (iris_num.max() - iris_num.min()) - 1\n",
    "\n",
    "iris_norm.plot(kind='box')\n",
    "iris_norm.describe()"
   ]
  },
  {
   "cell_type": "markdown",
   "metadata": {
    "slideshow": {
     "slide_type": "slide"
    }
   },
   "source": [
    "## Dyskretyzacja danych\n",
    "\n",
    "Zamiana zmiennych ciągłych na dyskretne."
   ]
  },
  {
   "cell_type": "code",
   "execution_count": null,
   "metadata": {},
   "outputs": [],
   "source": [
    "iris['sepal_length_cm'].hist(bins=10);               # podział zbioru na 10 elementów"
   ]
  },
  {
   "cell_type": "markdown",
   "metadata": {},
   "source": [
    "Funkcja [Pandas.cut(x, bins)](https://pandas.pydata.org/pandas-docs/stable/reference/api/pandas.cut.html) dzieli wartości zmiennej ``x`` na ``bins`` równych przedziałów"
   ]
  },
  {
   "cell_type": "code",
   "execution_count": null,
   "metadata": {},
   "outputs": [],
   "source": [
    "bins = pd.cut(iris['sepal_length_cm'], 3)   \n",
    "\n",
    "bins.value_counts(sort=False)"
   ]
  },
  {
   "cell_type": "markdown",
   "metadata": {},
   "source": [
    "Funkcja [Pandas.qcut(x, q)](https://pandas.pydata.org/pandas-docs/stable/reference/api/pandas.qcut.html) dzieli wartości zmiennej ``x`` na ``q`` równolicznych przedziałów"
   ]
  },
  {
   "cell_type": "code",
   "execution_count": null,
   "metadata": {},
   "outputs": [],
   "source": [
    "bins = pd.qcut(iris['sepal_length_cm'], 4, labels=['a', 'b', 'c', 'd']) # podział zbioru na 4 podzbiory o zbliżonej liczebności \n",
    "bins.value_counts(sort=False)"
   ]
  },
  {
   "cell_type": "markdown",
   "metadata": {
    "slideshow": {
     "slide_type": "slide"
    }
   },
   "source": [
    "### Ćwiczenie\n",
    "\n",
    "Utwórz nową zmienną dyskretną ``sepal_length_size`` dzielącą zmienną ``sepal_length_cm`` na 3 równe przedziały o wartościach : ``small``, ``medium``, ``large``.   \n",
    "Wypisz wartość średnią długości ``sepal_length_cm`` w każdym z uzyskanych przediałów."
   ]
  },
  {
   "cell_type": "code",
   "execution_count": null,
   "metadata": {
    "slideshow": {
     "slide_type": "-"
    }
   },
   "outputs": [],
   "source": [
    "\n",
    "\n"
   ]
  },
  {
   "cell_type": "markdown",
   "metadata": {
    "slideshow": {
     "slide_type": "slide"
    }
   },
   "source": [
    "## Zamiana kategorycznych danych na zmienne numeryczne\n",
    "### Kodowanie one-hot\n",
    "\n",
    "Kodowanie *one-hot* (wg dokumentacji Pandas tzw. _dummy code_) - zamiana wartości kategorycznych na wektor binarny $[0, 0, 1, 0, \\ldots, 0]$ \n",
    "\n",
    "Funkcja [get_dummies(x)](https://pandas.pydata.org/pandas-docs/stable/reference/api/pandas.get_dummies.html) zamiana zmiennej ``x`` na kodowanie _one-hot_  \n",
    "\n",
    "Funkcja [from_dummies(x, )](https://pandas.pydata.org/pandas-docs/stable/reference/api/pandas.from_dummies.html) zamiana zmiennych _one-hot_ na zmienną kategoryczną  \n",
    "\n",
    "\n"
   ]
  },
  {
   "cell_type": "code",
   "execution_count": null,
   "metadata": {},
   "outputs": [],
   "source": [
    "class_one_hot = pd.get_dummies(iris['class'])\n",
    "class_one_hot"
   ]
  },
  {
   "cell_type": "code",
   "execution_count": null,
   "metadata": {},
   "outputs": [],
   "source": [
    "pd.from_dummies(class_one_hot)"
   ]
  },
  {
   "cell_type": "markdown",
   "metadata": {
    "slideshow": {
     "slide_type": "slide"
    }
   },
   "source": [
    "### Mapowanie wartości kategorycznych na liczby\n",
    "\n",
    "Metoda [Series.map(arg)](https://pandas.pydata.org/pandas-docs/stable/reference/api/pandas.Series.map.html) zamienia wartości dane w słowniku ``arg`` lub za pomocą funkci mapującej\n",
    "\n",
    "Metoda [Series.apply(fun)](https://pandas.pydata.org/pandas-docs/stable/reference/api/pandas.Series.apply.html) lub [DataFrame.apply(fun)](https://pandas.pydata.org/pandas-docs/stable/reference/api/pandas.DataFrame.apply.html) modyfikuje elementy z apomoca funkcji ``fun``"
   ]
  },
  {
   "cell_type": "code",
   "execution_count": null,
   "metadata": {},
   "outputs": [],
   "source": [
    "size_map = {\n",
    "    'small' : 1,\n",
    "    'medium' : 2,\n",
    "    'large' : 3\n",
    "}\n",
    "\n",
    "size_data = iris['sepal_length_size'].map(size_map)\n",
    "size_data"
   ]
  },
  {
   "cell_type": "markdown",
   "metadata": {
    "slideshow": {
     "slide_type": "slide"
    }
   },
   "source": [
    "## Zadanie\n",
    "\n",
    "Wczytaj dane \"Breast Cancer Wisconsin\" i przeprowadź preprocesing zgodnie z podanymi poniżej wytycznymi.\n",
    "\n",
    "Dane znajdują się w repozytorium pod adresem [dane/breast-cancer.data](dane/breast-cancer.data) (tub można je popbrać [tutaj](https://github.com/IS-UMK/wdm_lab_04/blob/master/dane/breast-cancer.data))\n",
    "\n",
    "Dane zawierają wartości opisujące cechy jąder komórkowych obecnych na obrazie uzyskanym przy badaniu piersi dla dwóch grup pacjentów: `benign` (złośliwy), `malignat` (łagodny).\n",
    "\n",
    "Oto lista zmiennych:\n",
    "\n",
    "```\n",
    "   #  Attribute                     Domain\n",
    "   -- -----------------------------------------\n",
    "   1. Sample code number            id number\n",
    "   2. Clump Thickness               1 - 10\n",
    "   3. Uniformity of Cell Size       1 - 10\n",
    "   4. Uniformity of Cell Shape      1 - 10\n",
    "   5. Marginal Adhesion             1 - 10\n",
    "   6. Single Epithelial Cell Size   1 - 10\n",
    "   7. Bare Nuclei                   1 - 10\n",
    "   8. Bland Chromatin               1 - 10\n",
    "   9. Normal Nucleoli               1 - 10\n",
    "  10. Mitoses                       1 - 10\n",
    "  11. Class                         (2 for benign, 4 for malignant)\n",
    "\n",
    "```\n",
    "\n",
    "Wszystkie istotne cechy posiadają wartości numeryczne (całkowite) z zakresu od 1 do 10, ostatnia zmienna zawiera informacje o 2 klasach."
   ]
  },
  {
   "cell_type": "markdown",
   "metadata": {
    "slideshow": {
     "slide_type": "slide"
    }
   },
   "source": [
    "1. Wczytaj zbiór danych ``brast-cancer.data`` do tablicy `DataFrame` używając Pandas. Dane są w formacie zgodnym z CSV (wartości są oddzielone przecinkami). Zwróć uwagę na to, że plik nie posiada nagłówka, tzn. pierwsza linia pliku nie zawiera nazw zmiennych. Nadaj odpowiednie nazwy zmiennych zgodne z opisem danych. "
   ]
  },
  {
   "cell_type": "code",
   "execution_count": null,
   "metadata": {},
   "outputs": [],
   "source": [
    "\n",
    "\n"
   ]
  },
  {
   "cell_type": "markdown",
   "metadata": {
    "slideshow": {
     "slide_type": "-"
    }
   },
   "source": [
    "2. Pierwsza zmienna zawiera liczby porządkowe (``Sample_code_number``) identyfikujące pacjentów. Ta zmienna jest nieistotna dla analizy. Usuń ją ze zbioru."
   ]
  },
  {
   "cell_type": "code",
   "execution_count": null,
   "metadata": {},
   "outputs": [],
   "source": [
    "\n",
    "\n"
   ]
  },
  {
   "cell_type": "markdown",
   "metadata": {
    "slideshow": {
     "slide_type": "-"
    }
   },
   "source": [
    "3. Wartości brakujące w tekstowym pliku wejściowym kodowane są za pomocą znaku zapytania (`?`). Wyświtl liczbę przypadków z wartościami brakującymi oraz liczbę wartości brakujących w każdej ze zmiennych."
   ]
  },
  {
   "cell_type": "code",
   "execution_count": null,
   "metadata": {},
   "outputs": [],
   "source": [
    "\n",
    "\n"
   ]
  },
  {
   "cell_type": "markdown",
   "metadata": {
    "slideshow": {
     "slide_type": "slide"
    }
   },
   "source": [
    "4. Pozbądź się wartości brakujących ze zbioru danych. Usuń przypadki z brakami lub zamień wartości brakujące na wartość najczęściej występującą, czyli na wartość mody (dominanty), którą można wyznaczyć funkcją [DataFrame.mode()](https://pandas.pydata.org/pandas-docs/stable/reference/api/pandas.DataFrame.mode.html)).  \n",
    "Po transformacji wszystkie zmienne powinny być zmiennymi numerycznymi. Jeśli tak nie jest, to przetransformuj je do postaci numerycznej. "
   ]
  },
  {
   "cell_type": "code",
   "execution_count": null,
   "metadata": {},
   "outputs": [],
   "source": [
    "\n",
    "\n"
   ]
  },
  {
   "cell_type": "markdown",
   "metadata": {
    "slideshow": {
     "slide_type": "-"
    }
   },
   "source": [
    "5. Sprawdź, czy zbiór danych zawiera przypadki odstające lub nietypowe. Spodziewamy się, że wszystkie zmienne (oprócz klasy) mają wartości całkowite w zakresie od 1 do 10. Usuń ze zbioru danych wszystkie przypadki, które uznasz za niespójne ze spodziewanym rozkładem danych. "
   ]
  },
  {
   "cell_type": "code",
   "execution_count": null,
   "metadata": {},
   "outputs": [],
   "source": [
    "\n",
    "\n"
   ]
  },
  {
   "cell_type": "markdown",
   "metadata": {
    "slideshow": {
     "slide_type": "slide"
    }
   },
   "source": [
    "6. Usuń ze zbioru przypadki odstające, których wartości zmiennych wykraczają poza przedział $(\\bar{x}-3\\cdot\\sigma, \\bar{x}+ 3\\cdot\\sigma)$, gdzie $\\bar{x}$ to wartość średnia zmiennej, $\\sigma$ to odchylnie standardowe zmiennej."
   ]
  },
  {
   "cell_type": "code",
   "execution_count": null,
   "metadata": {},
   "outputs": [],
   "source": [
    "\n",
    "\n"
   ]
  },
  {
   "cell_type": "markdown",
   "metadata": {
    "slideshow": {
     "slide_type": "-"
    }
   },
   "source": [
    "7. Usuń ze zbioru danych duplikaty, tzn. powtarzające sie przypadki. "
   ]
  },
  {
   "cell_type": "code",
   "execution_count": null,
   "metadata": {},
   "outputs": [],
   "source": []
  },
  {
   "cell_type": "markdown",
   "metadata": {
    "slideshow": {
     "slide_type": "-"
    }
   },
   "source": [
    "8. Uzyskany zbiór danych wyeksportuj do pliku tekstowego w formacie CSV o nazwie ``breast-cancer.csv``. Plik wynikowy powinien zawierać nagłowek z nazwami zmiennych, średnik (`;`) jako separator oraz nie powinien zawierać zmiennej indeksującej.  Zabacz funkcję [DataFrame.to_csv()](https://pandas.pydata.org/pandas-docs/stable/reference/api/pandas.DataFrame.to_csv.html). Wynikowy plik danych umieść w repozytorium GitHub.\n",
    "\n",
    "\n"
   ]
  },
  {
   "cell_type": "code",
   "execution_count": null,
   "metadata": {},
   "outputs": [],
   "source": [
    "\n",
    "\n",
    "\n"
   ]
  }
 ],
 "metadata": {
  "celltoolbar": "Slideshow",
  "kernelspec": {
   "display_name": "Python 3 (ipykernel)",
   "language": "python",
   "name": "python3"
  },
  "language_info": {
   "codemirror_mode": {
    "name": "ipython",
    "version": 3
   },
   "file_extension": ".py",
   "mimetype": "text/x-python",
   "name": "python",
   "nbconvert_exporter": "python",
   "pygments_lexer": "ipython3",
   "version": "3.9.7"
  },
  "toc": {
   "base_numbering": 1,
   "nav_menu": {},
   "number_sections": true,
   "sideBar": true,
   "skip_h1_title": false,
   "title_cell": "Table of Contents",
   "title_sidebar": "Contents",
   "toc_cell": true,
   "toc_position": {
    "height": "calc(100% - 180px)",
    "left": "10px",
    "top": "150px",
    "width": "480px"
   },
   "toc_section_display": true,
   "toc_window_display": false
  },
  "varInspector": {
   "cols": {
    "lenName": 16,
    "lenType": 16,
    "lenVar": 40
   },
   "kernels_config": {
    "python": {
     "delete_cmd_postfix": "",
     "delete_cmd_prefix": "del ",
     "library": "var_list.py",
     "varRefreshCmd": "print(var_dic_list())"
    },
    "r": {
     "delete_cmd_postfix": ") ",
     "delete_cmd_prefix": "rm(",
     "library": "var_list.r",
     "varRefreshCmd": "cat(var_dic_list()) "
    }
   },
   "types_to_exclude": [
    "module",
    "function",
    "builtin_function_or_method",
    "instance",
    "_Feature"
   ],
   "window_display": false
  }
 },
 "nbformat": 4,
 "nbformat_minor": 4
}
